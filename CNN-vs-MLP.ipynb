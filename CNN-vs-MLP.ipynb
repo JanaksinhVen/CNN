{
 "cells": [
  {
   "cell_type": "markdown",
   "metadata": {},
   "source": [
    "## SMAI assignment-3, Q-5"
   ]
  },
  {
   "cell_type": "code",
   "execution_count": 103,
   "metadata": {},
   "outputs": [],
   "source": [
    "import os\n",
    "import cv2\n",
    "import numpy as np\n",
    "import pandas as pd\n",
    "import matplotlib.pyplot as plt \n",
    "import torch\n",
    "import torch.nn as nn\n",
    "from torch import nn, save, load\n",
    "from torch.utils.data import DataLoader,TensorDataset\n",
    "from torch.optim import Adam\n",
    "from sklearn.preprocessing import MultiLabelBinarizer\n",
    "from sklearn.model_selection import train_test_split"
   ]
  },
  {
   "cell_type": "markdown",
   "metadata": {},
   "source": [
    "# Q-5.1 Multi-digit Recognition on Multi-MNIST Dataset "
   ]
  },
  {
   "cell_type": "code",
   "execution_count": 20,
   "metadata": {},
   "outputs": [
    {
     "name": "stdout",
     "output_type": "stream",
     "text": [
      "images_train: (58000, 1, 28, 28) labels_train: (58000, 2)\n"
     ]
    }
   ],
   "source": [
    "#   Train dataset\n",
    "#  Specify the path to your data folder\n",
    "data_folder = 'C:/Users/JANAKSINH/SMAI_Assignments/SMAI_Assignment_3/Q_5/double_mnist_seed_123_image_size_64_64/train'\n",
    "\n",
    "images = []\n",
    "labels = []\n",
    "# Loop through the subfolders, each representing a different class\n",
    "for class_folder in os.listdir(data_folder):\n",
    "    class_path = os.path.join(data_folder, class_folder)\n",
    "    if os.path.isdir(class_path):\n",
    "    \n",
    "        # Loop through the images in the class folder\n",
    "        for filename in os.listdir(class_path):\n",
    "            if filename.endswith('.png'):\n",
    "                image_path = os.path.join(class_path, filename)\n",
    "\n",
    "                # Load the image using OpenCV and convert it to grayscale (if it's not already)\n",
    "                image = cv2.imread(image_path, cv2.IMREAD_GRAYSCALE)\n",
    "\n",
    "                # Resize the image to 28x28 pixels\n",
    "                image = cv2.resize(image, (28, 28))\n",
    "\n",
    "                class12 = int(filename.split('_')[1].split('.')[0])\n",
    "                class1 = class12//10\n",
    "                class2 = class12 % 10\n",
    "                #filter out the same digit iamges\n",
    "                if (class1!=class2):\n",
    "                    labels.append([class1, class2])\n",
    "                    images.append(image)\n",
    "# Convert the lists to NumPy arrays and reshape the data\n",
    "images_train = np.array(images)\n",
    "labels_train = np.array(labels)\n",
    "images_train = images_train.reshape(images_train.shape[0], 1, 28, 28)\n",
    "\n",
    "# Optionally, you can normalize the pixel values to be between 0 and 1\n",
    "images_train = images_train / 255.0\n",
    "print('images_train:',images_train.shape,'labels_train:',labels_train.shape)"
   ]
  },
  {
   "cell_type": "markdown",
   "metadata": {},
   "source": [
    "Display several images from the filtered dataset to familiarize yourself with\n",
    "the dual-digit nature of the images."
   ]
  },
  {
   "cell_type": "code",
   "execution_count": 22,
   "metadata": {},
   "outputs": [
    {
     "data": {
      "image/png": "[encoded data removed]",
      "text/plain": [
       "<Figure size 500x100 with 5 Axes>"
      ]
     },
     "metadata": {},
     "output_type": "display_data"
    }
   ],
   "source": [
    "fig, axes = plt.subplots(1,5, figsize = (5,1))\n",
    "sample_images = images_train[:5]\n",
    "for i in range(5):\n",
    "    axes[i].imshow(sample_images[i][0],'gray')\n",
    "    axes[i].axis('off')"
   ]
  },
  {
   "cell_type": "markdown",
   "metadata": {},
   "source": [
    "Test and validation data:"
   ]
  },
  {
   "cell_type": "code",
   "execution_count": 32,
   "metadata": {},
   "outputs": [
    {
     "name": "stdout",
     "output_type": "stream",
     "text": [
      "images_valid: (14000, 1, 28, 28) labels_valid: (14000, 2)\n"
     ]
    }
   ],
   "source": [
    "#   Validation dataset\n",
    "#  Specify the path to your data folder\n",
    "data_folder = 'C:/Users/JANAKSINH/SMAI_Assignments/SMAI_Assignment_3/Q_5/double_mnist_seed_123_image_size_64_64/val'\n",
    "\n",
    "images = []\n",
    "labels = []\n",
    "# Loop through the subfolders, each representing a different class\n",
    "for class_folder in os.listdir(data_folder):\n",
    "    class_path = os.path.join(data_folder, class_folder)\n",
    "    if os.path.isdir(class_path):\n",
    "    \n",
    "        # Loop through the images in the class folder\n",
    "        for filename in os.listdir(class_path):\n",
    "            if filename.endswith('.png'):\n",
    "                image_path = os.path.join(class_path, filename)\n",
    "\n",
    "                # Load the image using OpenCV and convert it to grayscale (if it's not already)\n",
    "                image = cv2.imread(image_path, cv2.IMREAD_GRAYSCALE)\n",
    "\n",
    "                # Resize the image to 28x28 pixels\n",
    "                image = cv2.resize(image, (28, 28))\n",
    "\n",
    "                class12 = int(filename.split('_')[1].split('.')[0])\n",
    "                class1 = class12//10\n",
    "                class2 = class12 % 10\n",
    "                #filter out the same digit iamges\n",
    "                if (class1!=class2):\n",
    "                    labels.append([class1, class2])\n",
    "                    images.append(image)\n",
    "# Convert the lists to NumPy arrays and reshape the data\n",
    "images_valid = np.array(images)\n",
    "labels_valid = np.array(labels)\n",
    "images_valid = images_valid.reshape(images_valid.shape[0], 1, 28, 28)\n",
    "\n",
    "# Optionally, you can normalize the pixel values to be between 0 and 1\n",
    "images_valid = images_valid / 255.0\n",
    "print('images_valid:',images_valid.shape,'labels_valid:',labels_valid.shape)"
   ]
  },
  {
   "cell_type": "code",
   "execution_count": 24,
   "metadata": {},
   "outputs": [
    {
     "name": "stdout",
     "output_type": "stream",
     "text": [
      "images_test: (18000, 1, 28, 28) labels_test: (18000, 2)\n"
     ]
    }
   ],
   "source": [
    "#  Test dataset\n",
    "#  Specify the path to your data folder\n",
    "data_folder = 'C:/Users/JANAKSINH/SMAI_Assignments/SMAI_Assignment_3/Q_5/double_mnist_seed_123_image_size_64_64/test'\n",
    "\n",
    "images = []\n",
    "labels = []\n",
    "# Loop through the subfolders, each representing a different class\n",
    "for class_folder in os.listdir(data_folder):\n",
    "    class_path = os.path.join(data_folder, class_folder)\n",
    "    if os.path.isdir(class_path):\n",
    "    \n",
    "        # Loop through the images in the class folder\n",
    "        for filename in os.listdir(class_path):\n",
    "            if filename.endswith('.png'):\n",
    "                image_path = os.path.join(class_path, filename)\n",
    "\n",
    "                # Load the image using OpenCV and convert it to grayscale (if it's not already)\n",
    "                image = cv2.imread(image_path, cv2.IMREAD_GRAYSCALE)\n",
    "\n",
    "                # Resize the image to 28x28 pixels\n",
    "                image = cv2.resize(image, (28, 28))\n",
    "\n",
    "                class12 = int(filename.split('_')[1].split('.')[0])\n",
    "                class1 = class12//10\n",
    "                class2 = class12 % 10\n",
    "                #filter out the same digit iamges\n",
    "                if (class1!=class2):\n",
    "                    labels.append([class1, class2])\n",
    "                    images.append(image)\n",
    "# Convert the lists to NumPy arrays and reshape the data\n",
    "images_test = np.array(images)\n",
    "labels_test = np.array(labels)\n",
    "images_test = images_test.reshape(images_test.shape[0], 1, 28, 28)\n",
    "\n",
    "# Optionally, you can normalize the pixel values to be between 0 and 1\n",
    "images_test = images_test / 255.0\n",
    "print('images_test:',images_test.shape,'labels_test:',labels_test.shape)"
   ]
  },
  {
   "cell_type": "code",
   "execution_count": null,
   "metadata": {},
   "outputs": [],
   "source": []
  },
  {
   "cell_type": "markdown",
   "metadata": {},
   "source": [
    "## 5.1.1 MLP on Multi-MNIST"
   ]
  },
  {
   "cell_type": "markdown",
   "metadata": {},
   "source": [
    "1. Implement and train an MLP model on the MultiMNIST datase"
   ]
  },
  {
   "cell_type": "code",
   "execution_count": 39,
   "metadata": {},
   "outputs": [],
   "source": [
    "#MLP model\n",
    "class FlexibleMLP(nn.Module):\n",
    "    def __init__(self, input_size=784, output_size=10, hidden_units_list = [128]):\n",
    "        super(FlexibleMLP, self).__init__()\n",
    "\n",
    "        # Input layer\n",
    "        self.input_layer = nn.Linear(input_size, hidden_units_list[0])\n",
    "\n",
    "        # Hidden layers\n",
    "        self.hidden_layers = nn.ModuleList()\n",
    "        for i in range(len(hidden_units_list) - 1):\n",
    "            self.hidden_layers.append(nn.Linear(hidden_units_list[i], hidden_units_list[i+1]))\n",
    "            self.hidden_layers.append(nn.ReLU())\n",
    "\n",
    "        # Output layer\n",
    "        self.output_layer = nn.Linear(hidden_units_list[-1], output_size)\n",
    "\n",
    "    def forward(self, x):\n",
    "        # x = torch.flatten(x, 1)  # Flatten the input if needed\n",
    "        x = self.input_layer(x)\n",
    "        \n",
    "        # Pass through hidden layers\n",
    "        for layer in self.hidden_layers:\n",
    "            x = layer(x)\n",
    "        x = self.output_layer(x)\n",
    "        return x\n",
    "\n",
    "# # Example usage:\n",
    "# input_size = 784  # For MNIST (28x28)\n",
    "# output_size = 10  # Number of classes\n",
    "# hidden_units_list = [128, 64]  # List specifying the number of units in each hidden layer\n",
    "\n",
    "# # Create the flexible model\n",
    "# model = FlexibleMLP(input_size, output_size, hidden_units_list)"
   ]
  },
  {
   "cell_type": "code",
   "execution_count": 47,
   "metadata": {},
   "outputs": [],
   "source": [
    "#train dataset preprocessing\n",
    "mlb = MultiLabelBinarizer()\n",
    "labels_train_encoded = mlb.fit_transform(labels_train)\n",
    "images_train = images_train.astype('float32')\n",
    "train_x_n = images_train.reshape(images_train.shape[0], 28*28)\n",
    "train_x_n = torch.from_numpy(train_x_n)\n",
    "train_y_n = torch.from_numpy(labels_train_encoded)\n",
    "train_set = TensorDataset(train_x_n, train_y_n.type(torch.float32))\n",
    "\n",
    "#validation dataset preprocessing\n",
    "mlb = MultiLabelBinarizer()\n",
    "labels_valid_encoded = mlb.fit_transform(labels_valid)\n",
    "images_valid = images_valid.astype('float32')\n",
    "valid_x_n = images_valid.reshape(images_valid.shape[0], 28*28)\n",
    "valid_x_n = torch.from_numpy(valid_x_n)\n",
    "valid_y_n = torch.from_numpy(labels_valid_encoded)\n",
    "valid_set = TensorDataset(valid_x_n, valid_y_n)\n",
    "\n",
    "#test dataset preprocessing\n",
    "mlb = MultiLabelBinarizer()\n",
    "labels_test_encoded = mlb.fit_transform(labels_test)\n",
    "images_test = images_test.astype('float32')\n",
    "test_x_n = images_test.reshape(images_test.shape[0], 28*28)\n",
    "test_x_n = torch.from_numpy(test_x_n)\n",
    "test_y_n = torch.from_numpy(labels_test_encoded)\n",
    "test_set = TensorDataset(test_x_n, test_y_n)"
   ]
  },
  {
   "cell_type": "code",
   "execution_count": 89,
   "metadata": {},
   "outputs": [],
   "source": [
    "#Train MLP\n",
    "def train_mlp_model(hidden_units_list,epochs,batch_size,test_mode = False):\n",
    "    input_size=784\n",
    "    output_size=10\n",
    "    learning_rate = 0.001\n",
    "    model = FlexibleMLP(input_size, output_size, hidden_units_list)\n",
    "    dataloader_train = DataLoader(train_set, batch_size=batch_size, shuffle=True)\n",
    "    dataloader_valid = DataLoader(valid_set, batch_size=batch_size)\n",
    "    dataloader_test = DataLoader(test_set, batch_size=batch_size)\n",
    "    # Loss and optimizer\n",
    "    criterion = nn.CrossEntropyLoss()\n",
    "    optimizer = torch.optim.Adam(model.parameters(), lr=learning_rate)\n",
    "\n",
    "    # Training loop\n",
    "    for epoch in range(epochs):\n",
    "        for data, target in dataloader_train:\n",
    "            optimizer.zero_grad()\n",
    "            output = model(data)\n",
    "            loss = criterion(output, target)\n",
    "            loss.backward()\n",
    "            optimizer.step()\n",
    "\n",
    "            #validation accuracy\n",
    "            total = 0\n",
    "            correct = 0\n",
    "        with torch.no_grad():\n",
    "            if (test_mode==False):\n",
    "                for data, target in dataloader_valid:\n",
    "                    output = model(data)\n",
    "                    output = 1 / (1 + np.exp(-output))\n",
    "                    # predicted = (output>0.5).int()\n",
    "                    top_indices = np.argsort(output, axis=1)[:, -2:]\n",
    "                    # Create a binary matrix where only the top 2 maximum values are set to 1\n",
    "                    predicted = np.zeros_like(output, dtype=int)\n",
    "                    row_indices = np.arange(output.shape[0])[:, np.newaxis]\n",
    "                    predicted[row_indices, top_indices] = 1\n",
    "                    # _, predicted = torch.max(output.data, 1)\n",
    "                    predicted = torch.from_numpy(predicted)\n",
    "                    total += target.size(0)\n",
    "                    correct += (predicted == target).sum().item()\n",
    "                acc = 100*correct/(total*len(dataloader_valid))\n",
    "            else:\n",
    "                for data, target in dataloader_test:\n",
    "                    output = model(data)\n",
    "                    output = 1 / (1 + np.exp(-output))\n",
    "                    # predicted = (output>0.5).int()\n",
    "                    top_indices = np.argsort(output, axis=1)[:, -2:]\n",
    "                    # Create a binary matrix where only the top 2 maximum values are set to 1\n",
    "                    predicted = np.zeros_like(output, dtype=int)\n",
    "                    row_indices = np.arange(output.shape[0])[:, np.newaxis]\n",
    "                    predicted[row_indices, top_indices] = 1\n",
    "                    # _, predicted = torch.max(output.data, 1)\n",
    "                    predicted = torch.from_numpy(predicted)\n",
    "                    total += target.size(0)\n",
    "                    correct += (predicted == target).sum().item()\n",
    "                acc = 100*correct/(total*len(dataloader_test))\n",
    "            \n",
    "        print(f'Epoch [{epoch+1}/{epochs}], Loss: {loss.item():.4f},Accuracy: {acc}')\n",
    "\n",
    "    # Save the trained model\n",
    "    torch.save(model.state_dict(), 'flexible_mlp_model.pth')\n",
    "    return acc,loss.item()"
   ]
  },
  {
   "cell_type": "markdown",
   "metadata": {},
   "source": [
    "5.1.1         \n",
    "2. Hyperparameter Tuning: Adjust the number of hidden layers and the\n",
    "number of neurons within each layer to optimize performance and find\n",
    "the best model.           \n",
    "3. Report the accuracies on the train and validation set."
   ]
  },
  {
   "cell_type": "code",
   "execution_count": 80,
   "metadata": {},
   "outputs": [
    {
     "data": {
      "text/html": [
       "Tracking run with wandb version 0.15.12"
      ],
      "text/plain": [
       "<IPython.core.display.HTML object>"
      ]
     },
     "metadata": {},
     "output_type": "display_data"
    },
    {
     "data": {
      "text/html": [
       "Run data is saved locally in <code>c:\\Users\\JANAKSINH\\SMAI_Assignments\\SMAI_Assignment_3\\Q_5\\wandb\\run-20231023_184129-wbi5eu0g</code>"
      ],
      "text/plain": [
       "<IPython.core.display.HTML object>"
      ]
     },
     "metadata": {},
     "output_type": "display_data"
    },
    {
     "data": {
      "text/html": [
       "Syncing run <strong><a href='https://wandb.ai/janaksinhven/Q-5.1.1%20MLP%20on%20Multi-MNIST%20dataset%20hyperparameters%20tunining/runs/wbi5eu0g' target=\"_blank\">likely-leaf-3</a></strong> to <a href='https://wandb.ai/janaksinhven/Q-5.1.1%20MLP%20on%20Multi-MNIST%20dataset%20hyperparameters%20tunining' target=\"_blank\">Weights & Biases</a> (<a href='https://wandb.me/run' target=\"_blank\">docs</a>)<br/>"
      ],
      "text/plain": [
       "<IPython.core.display.HTML object>"
      ]
     },
     "metadata": {},
     "output_type": "display_data"
    },
    {
     "data": {
      "text/html": [
       " View project at <a href='https://wandb.ai/janaksinhven/Q-5.1.1%20MLP%20on%20Multi-MNIST%20dataset%20hyperparameters%20tunining' target=\"_blank\">https://wandb.ai/janaksinhven/Q-5.1.1%20MLP%20on%20Multi-MNIST%20dataset%20hyperparameters%20tunining</a>"
      ],
      "text/plain": [
       "<IPython.core.display.HTML object>"
      ]
     },
     "metadata": {},
     "output_type": "display_data"
    },
    {
     "data": {
      "text/html": [
       " View run at <a href='https://wandb.ai/janaksinhven/Q-5.1.1%20MLP%20on%20Multi-MNIST%20dataset%20hyperparameters%20tunining/runs/wbi5eu0g' target=\"_blank\">https://wandb.ai/janaksinhven/Q-5.1.1%20MLP%20on%20Multi-MNIST%20dataset%20hyperparameters%20tunining/runs/wbi5eu0g</a>"
      ],
      "text/plain": [
       "<IPython.core.display.HTML object>"
      ]
     },
     "metadata": {},
     "output_type": "display_data"
    },
    {
     "name": "stdout",
     "output_type": "stream",
     "text": [
      "Hyperparameters:0=([128], 8, 1000)\n",
      "Epoch [1/8], Loss: 4.2574,Accuracy: 52.2530612244898\n",
      "Epoch [2/8], Loss: 4.2174,Accuracy: 52.42448979591837\n",
      "Epoch [3/8], Loss: 4.1602,Accuracy: 52.59591836734694\n",
      "Epoch [4/8], Loss: 4.1457,Accuracy: 52.80816326530612\n",
      "Epoch [5/8], Loss: 4.1405,Accuracy: 52.71836734693878\n",
      "Epoch [6/8], Loss: 4.1175,Accuracy: 52.765306122448976\n",
      "Epoch [7/8], Loss: 4.1439,Accuracy: 52.84795918367347\n",
      "Epoch [8/8], Loss: 4.0870,Accuracy: 52.803061224489795\n",
      "Hyperparameters:1=([500, 200], 8, 1000)\n",
      "Epoch [1/8], Loss: 4.1172,Accuracy: 52.74387755102041\n",
      "Epoch [2/8], Loss: 3.9479,Accuracy: 53.621428571428574\n",
      "Epoch [3/8], Loss: 3.7886,Accuracy: 54.093877551020405\n",
      "Epoch [4/8], Loss: 3.6787,Accuracy: 54.85510204081633\n",
      "Epoch [5/8], Loss: 3.4467,Accuracy: 55.433673469387756\n",
      "Epoch [6/8], Loss: 3.3375,Accuracy: 55.683673469387756\n",
      "Epoch [7/8], Loss: 3.2364,Accuracy: 56.15204081632653\n",
      "Epoch [8/8], Loss: 3.1669,Accuracy: 56.6265306122449\n",
      "Hyperparameters:2=([128, 64], 8, 1000)\n",
      "Epoch [1/8], Loss: 4.2031,Accuracy: 52.3765306122449\n",
      "Epoch [2/8], Loss: 4.0921,Accuracy: 52.79795918367347\n",
      "Epoch [3/8], Loss: 3.9726,Accuracy: 53.70918367346939\n",
      "Epoch [4/8], Loss: 3.9638,Accuracy: 53.71632653061224\n",
      "Epoch [5/8], Loss: 3.9312,Accuracy: 54.00204081632653\n",
      "Epoch [6/8], Loss: 3.8804,Accuracy: 54.029591836734696\n",
      "Epoch [7/8], Loss: 3.8253,Accuracy: 54.333673469387755\n",
      "Epoch [8/8], Loss: 3.7464,Accuracy: 54.41530612244898\n",
      "Hyperparameters:3=([256, 128], 8, 1000)\n",
      "Epoch [1/8], Loss: 4.1430,Accuracy: 52.21224489795918\n",
      "Epoch [2/8], Loss: 4.1120,Accuracy: 53.22551020408163\n",
      "Epoch [3/8], Loss: 3.9571,Accuracy: 53.68265306122449\n",
      "Epoch [4/8], Loss: 3.9079,Accuracy: 54.160204081632656\n",
      "Epoch [5/8], Loss: 3.7185,Accuracy: 54.49183673469388\n",
      "Epoch [6/8], Loss: 3.6650,Accuracy: 54.9030612244898\n",
      "Epoch [7/8], Loss: 3.5247,Accuracy: 55.059183673469384\n",
      "Epoch [8/8], Loss: 3.4854,Accuracy: 55.53877551020408\n"
     ]
    },
    {
     "data": {
      "text/html": [
       "Waiting for W&B process to finish... <strong style=\"color:green\">(success).</strong>"
      ],
      "text/plain": [
       "<IPython.core.display.HTML object>"
      ]
     },
     "metadata": {},
     "output_type": "display_data"
    },
    {
     "data": {
      "text/html": [
       "<style>\n",
       "    table.wandb td:nth-child(1) { padding: 0 10px; text-align: left ; width: auto;} td:nth-child(2) {text-align: left ; width: 100%}\n",
       "    .wandb-row { display: flex; flex-direction: row; flex-wrap: wrap; justify-content: flex-start; width: 100% }\n",
       "    .wandb-col { display: flex; flex-direction: column; flex-basis: 100%; flex: 1; padding: 10px; }\n",
       "    </style>\n",
       "<div class=\"wandb-row\"><div class=\"wandb-col\"><h3>Run history:</h3><br/><table class=\"wandb\"><tr><td>Hyper parameters pair</td><td>▁▃▆█</td></tr><tr><td>accuracy</td><td>▁█▄▆</td></tr><tr><td>loss</td><td>█▁▅▃</td></tr></table><br/></div><div class=\"wandb-col\"><h3>Run summary:</h3><br/><table class=\"wandb\"><tr><td>Hyper parameters pair</td><td>3</td></tr><tr><td>accuracy</td><td>55.53878</td></tr><tr><td>loss</td><td>3.48545</td></tr></table><br/></div></div>"
      ],
      "text/plain": [
       "<IPython.core.display.HTML object>"
      ]
     },
     "metadata": {},
     "output_type": "display_data"
    },
    {
     "data": {
      "text/html": [
       " View run <strong style=\"color:#cdcd00\">likely-leaf-3</strong> at: <a href='https://wandb.ai/janaksinhven/Q-5.1.1%20MLP%20on%20Multi-MNIST%20dataset%20hyperparameters%20tunining/runs/wbi5eu0g' target=\"_blank\">https://wandb.ai/janaksinhven/Q-5.1.1%20MLP%20on%20Multi-MNIST%20dataset%20hyperparameters%20tunining/runs/wbi5eu0g</a><br/>Synced 5 W&B file(s), 0 media file(s), 0 artifact file(s) and 0 other file(s)"
      ],
      "text/plain": [
       "<IPython.core.display.HTML object>"
      ]
     },
     "metadata": {},
     "output_type": "display_data"
    },
    {
     "data": {
      "text/html": [
       "Find logs at: <code>.\\wandb\\run-20231023_184129-wbi5eu0g\\logs</code>"
      ],
      "text/plain": [
       "<IPython.core.display.HTML object>"
      ]
     },
     "metadata": {},
     "output_type": "display_data"
    }
   ],
   "source": [
    "import wandb\n",
    "import random\n",
    "\n",
    "# start a new wandb run to track this script\n",
    "wandb.init(project=\"Q-5.1.1 MLP on Multi-MNIST dataset hyperparameters tunining\")\n",
    "\n",
    "from itertools import product\n",
    "h_param = {\n",
    "        'hidden_units_list': [[128], [500,200], [128,64], [256,128]],\n",
    "        'epochs' : [8],\n",
    "        'batch_size': [1000]\n",
    "        }\n",
    "hyper_param = list(product(*h_param.values()))\n",
    "J=0\n",
    "accuracy = []\n",
    "for i in hyper_param:\n",
    "    print(f'Hyperparameters:{J}={i}')\n",
    "    acc ,loss= train_mlp_model(i[0],i[1],i[2])\n",
    "    wandb.log({\"Hyper parameters pair\":J,\"accuracy\": acc, \"loss\": loss})\n",
    "    \n",
    "    J += 1\n",
    "    accuracy.append(acc)\n",
    "wandb.finish()"
   ]
  },
  {
   "cell_type": "code",
   "execution_count": 83,
   "metadata": {},
   "outputs": [
    {
     "name": "stdout",
     "output_type": "stream",
     "text": [
      "The maximum accuracy1=56.6265306122449 \n",
      "We get this accuracy for this hyperparameters\n",
      "(hidden_units_list,epochs,batch_size): ([500, 200], 8, 1000).\n"
     ]
    }
   ],
   "source": [
    "# Max_accu_hy_param_index = 56\n",
    "Max_accu_hy_param_index = np.argmax(accuracy)\n",
    "# print(f\"We get this accuracy for this hyperparameters\\n(hidden_units_list,epochs,batch_size): {hyper_param[Max_accu_hy_param_index]}.\")\n",
    "print(f\"The maximum accuracy{Max_accu_hy_param_index}={accuracy[Max_accu_hy_param_index]} \\nWe get this accuracy for this hyperparameters\\n(hidden_units_list,epochs,batch_size): {hyper_param[Max_accu_hy_param_index]}.\")"
   ]
  },
  {
   "cell_type": "markdown",
   "metadata": {},
   "source": [
    "5.1.1       \n",
    "4. Evaluate your trained model on test set and report the accuracy."
   ]
  },
  {
   "cell_type": "code",
   "execution_count": 84,
   "metadata": {},
   "outputs": [
    {
     "name": "stdout",
     "output_type": "stream",
     "text": [
      "Hyperparameters:4=([500, 200], 8, 1000)\n",
      "Epoch [1/8], Loss: 4.1587,Accuracy: 40.443827160493825\n",
      "Epoch [2/8], Loss: 4.0021,Accuracy: 41.2679012345679\n",
      "Epoch [3/8], Loss: 3.8311,Accuracy: 41.970987654320986\n",
      "Epoch [4/8], Loss: 3.6614,Accuracy: 42.79382716049383\n",
      "Epoch [5/8], Loss: 3.4484,Accuracy: 43.69444444444444\n",
      "Epoch [6/8], Loss: 3.3044,Accuracy: 43.88703703703704\n",
      "Epoch [7/8], Loss: 3.2393,Accuracy: 44.269753086419755\n",
      "Epoch [8/8], Loss: 3.1038,Accuracy: 44.5679012345679\n",
      "Accuracy and loss on the test dataset for best hyperparameters is : 44.5679012345679 3.103806972503662\n"
     ]
    }
   ],
   "source": [
    "i = hyper_param[Max_accu_hy_param_index]\n",
    "print(f'Hyperparameters:{J}={i}')\n",
    "acc ,loss= train_mlp_model(i[0],i[1],i[2],test_mode=True)\n",
    "print(\"Accuracy and loss on the test dataset for best hyperparameters is :\",acc,loss)"
   ]
  },
  {
   "cell_type": "markdown",
   "metadata": {},
   "source": [
    "## 5.1.2 CNN on Multi-MNIST"
   ]
  },
  {
   "cell_type": "markdown",
   "metadata": {},
   "source": [
    "1. Design and train a CNN model on the MultiMNIST dataset"
   ]
  },
  {
   "cell_type": "code",
   "execution_count": 90,
   "metadata": {},
   "outputs": [],
   "source": [
    "# CNN model\n",
    "class MY_CNN(nn.Module):\n",
    "\n",
    "    def __init__(self,kernel_size = (3,3),stride = (1,1), dropout_rate = 0.25):\n",
    "        super(MY_CNN, self).__init__()\n",
    "        self.conv1 = nn.Conv2d(1,32,kernel_size,stride=stride, padding=1)\n",
    "        self.relu = nn.ReLU()\n",
    "        self.pool = nn.MaxPool2d((2,2),stride=(2,2))\n",
    "        self.conv2 = nn.Conv2d(32,64,kernel_size,stride=stride, padding=1)\n",
    "      \n",
    "        out1 =  int(self.calculate_out(28, kernel_size, stride)/2)\n",
    "        self.out = int(self.calculate_out(out1, kernel_size, stride)/2)\n",
    "     \n",
    "        self.dropout = nn.Dropout(dropout_rate)\n",
    "        self.out_features = 64*self.out*self.out\n",
    "        self.fc = nn.Linear(self.out_features,10)   #(out_features,in_features)\n",
    "        self.softmax = nn.Softmax(dim=1)\n",
    "\n",
    "    def calculate_out(self, input_size, kernel_size, stride):\n",
    "            return ((input_size + 2 - (kernel_size[0] - 1) - 1) / stride[0]) + 1\n",
    "    def forward(self,x):\n",
    "        x = self.relu(self.conv1(x))    #N,32,28,28\n",
    "        x = self.pool(x)                #N,32,14,14\n",
    "        x = self.relu(self.conv2(x))    #N,64,14,14\n",
    "        x = self.pool(x)                #N,64,7,7\n",
    "\n",
    "        x = x.view(-1,self.out_features) #N,64*7*7\n",
    "        x = self.dropout(x)              #N,64*7*7\n",
    "        x = self.fc(x)                  #N,10\n",
    "        # x = self.softmax(x)\n",
    "        return x\n"
   ]
  },
  {
   "cell_type": "code",
   "execution_count": 97,
   "metadata": {},
   "outputs": [],
   "source": [
    "def train_CNN_model(learning_rate, epochs, batch_size, kernel_size, stride, dropout_rate, test_mode=False):\n",
    "    model = MY_CNN(kernel_size, stride, dropout_rate)\n",
    "    dataloader_train = DataLoader(train_set, batch_size=batch_size, shuffle=True)\n",
    "    dataloader_valid = DataLoader(valid_set, batch_size=batch_size)\n",
    "    dataloader_test = DataLoader(test_set, batch_size=batch_size)\n",
    "\n",
    "    criterion = nn.CrossEntropyLoss()\n",
    "    optimizer = torch.optim.Adam(model.parameters(), lr=learning_rate)\n",
    "\n",
    "    n_total_steps = len(dataloader_train)\n",
    "\n",
    "    for epoch in range(epochs):\n",
    "        running_loss = 0.0\n",
    "\n",
    "        for i, (images, labels) in enumerate(dataloader_train):\n",
    "            # images = images.to(device)\n",
    "            # labels = labels.to(device)\n",
    "            # Forward pass\n",
    "            outputs = model(images)\n",
    "            loss = criterion(outputs, labels)\n",
    "            # Backward and optimize\n",
    "            loss.backward()\n",
    "            optimizer.step()\n",
    "            optimizer.zero_grad()\n",
    "            running_loss += loss.item()\n",
    "            total=0\n",
    "            correct=0\n",
    "        #Accuracy calculaltion:\n",
    "        with torch.no_grad():\n",
    "            n_correct = 0\n",
    "            if(test_mode==False):\n",
    "              n_samples = len(dataloader_valid.dataset)\n",
    "              for images, labels in dataloader_valid:\n",
    "\n",
    "                #   images = images.to(device)\n",
    "                #   labels = labels.to(device)\n",
    "                output = model(images)\n",
    "                output = 1 / (1 + np.exp(-output))\n",
    "              \n",
    "                top_indices = np.argsort(output, axis=1)[:, -2:]\n",
    "                # Create a binary matrix where only the top 2 maximum values are set to 1\n",
    "                predicted = np.zeros_like(output, dtype=int)\n",
    "                row_indices = np.arange(output.shape[0])[:, np.newaxis]\n",
    "                predicted[row_indices, top_indices] = 1\n",
    "                # _, predicted = torch.max(output.data, 1)\n",
    "                predicted = torch.from_numpy(predicted)\n",
    "                total += target.size(0)\n",
    "                correct += (predicted == labels).sum().item()\n",
    "              acc = 100*correct/(total*len(dataloader_valid))\n",
    "            else:\n",
    "              \n",
    "              for images, labels in dataloader_test:\n",
    "\n",
    "                # images = images.to(device)\n",
    "                # labels = labels.to(device)\n",
    "                output = model(images)\n",
    "                output = 1 / (1 + np.exp(-output))\n",
    "\n",
    "                top_indices = np.argsort(output, axis=1)[:, -2:]\n",
    "                # Create a binary matrix where only the top 2 maximum values are set to 1\n",
    "                predicted = np.zeros_like(output, dtype=int)\n",
    "                row_indices = np.arange(output.shape[0])[:, np.newaxis]\n",
    "                predicted[row_indices, top_indices] = 1\n",
    "            \n",
    "                predicted = torch.from_numpy(predicted)\n",
    "                total += target.size(0)\n",
    "                correct += (predicted == labels).sum().item()\n",
    "              acc = 100*correct/(total*len(dataloader_valid))\n",
    "        print(f'Epoch [{epoch+1}/{epochs}], Loss: {loss.item():.4f},Accuracy: {acc}')\n",
    "\n",
    "    PATH = './Q_5_cnn.pth'\n",
    "    torch.save(model.state_dict(), PATH)\n",
    "    return acc, loss.item()"
   ]
  },
  {
   "cell_type": "code",
   "execution_count": 93,
   "metadata": {},
   "outputs": [
    {
     "data": {
      "text/plain": [
       "(58000, 1, 28, 28)"
      ]
     },
     "execution_count": 93,
     "metadata": {},
     "output_type": "execute_result"
    }
   ],
   "source": [
    "images_train.shape"
   ]
  },
  {
   "cell_type": "code",
   "execution_count": 98,
   "metadata": {},
   "outputs": [],
   "source": [
    "#train dataset preprocessing\n",
    "mlb = MultiLabelBinarizer()\n",
    "labels_train_encoded = mlb.fit_transform(labels_train)\n",
    "train_x_n = images_train.astype('float32')\n",
    "# train_x_n = images_train.reshape(images_train.shape[0], 28*28)\n",
    "train_x_n = torch.from_numpy(train_x_n)\n",
    "train_y_n = torch.from_numpy(labels_train_encoded)\n",
    "train_set = TensorDataset(train_x_n, train_y_n.type(torch.float32))\n",
    "\n",
    "#validation dataset preprocessing\n",
    "mlb = MultiLabelBinarizer()\n",
    "labels_valid_encoded = mlb.fit_transform(labels_valid)\n",
    "valid_x_n = images_valid.astype('float32')\n",
    "# valid_x_n = images_valid.reshape(images_valid.shape[0], 28*28)\n",
    "valid_x_n = torch.from_numpy(valid_x_n)\n",
    "valid_y_n = torch.from_numpy(labels_valid_encoded)\n",
    "valid_set = TensorDataset(valid_x_n, valid_y_n)\n",
    "\n",
    "#test dataset preprocessing\n",
    "mlb = MultiLabelBinarizer()\n",
    "labels_test_encoded = mlb.fit_transform(labels_test)\n",
    "test_x_n = images_test.astype('float32')\n",
    "# test_x_n = images_test.reshape(images_test.shape[0], 28*28)\n",
    "test_x_n = torch.from_numpy(test_x_n)\n",
    "test_y_n = torch.from_numpy(labels_test_encoded)\n",
    "test_set = TensorDataset(test_x_n, test_y_n)"
   ]
  },
  {
   "cell_type": "markdown",
   "metadata": {},
   "source": [
    "5.1.2          \n",
    "2. Hyperparameter Tuning: Experiment with different learning rates, kernel\n",
    "sizes, and dropout rates to determine the optimal configuration.   \n",
    "3. Report the accuracies on the train and validation set.\n"
   ]
  },
  {
   "cell_type": "code",
   "execution_count": 99,
   "metadata": {},
   "outputs": [
    {
     "data": {
      "text/html": [
       "Finishing last run (ID:ru6sc3w4) before initializing another..."
      ],
      "text/plain": [
       "<IPython.core.display.HTML object>"
      ]
     },
     "metadata": {},
     "output_type": "display_data"
    },
    {
     "data": {
      "text/html": [
       "Waiting for W&B process to finish... <strong style=\"color:green\">(success).</strong>"
      ],
      "text/plain": [
       "<IPython.core.display.HTML object>"
      ]
     },
     "metadata": {},
     "output_type": "display_data"
    },
    {
     "data": {
      "text/html": [
       " View run <strong style=\"color:#cdcd00\">rosy-gorge-2</strong> at: <a href='https://wandb.ai/janaksinhven/Q-5.1.2%20Hyperparameters%20tunining%20of%20CNN%20for%20Multi-MNIST%20dataset/runs/ru6sc3w4' target=\"_blank\">https://wandb.ai/janaksinhven/Q-5.1.2%20Hyperparameters%20tunining%20of%20CNN%20for%20Multi-MNIST%20dataset/runs/ru6sc3w4</a><br/>Synced 5 W&B file(s), 0 media file(s), 0 artifact file(s) and 0 other file(s)"
      ],
      "text/plain": [
       "<IPython.core.display.HTML object>"
      ]
     },
     "metadata": {},
     "output_type": "display_data"
    },
    {
     "data": {
      "text/html": [
       "Find logs at: <code>.\\wandb\\run-20231023_192619-ru6sc3w4\\logs</code>"
      ],
      "text/plain": [
       "<IPython.core.display.HTML object>"
      ]
     },
     "metadata": {},
     "output_type": "display_data"
    },
    {
     "data": {
      "text/html": [
       "Successfully finished last run (ID:ru6sc3w4). Initializing new run:<br/>"
      ],
      "text/plain": [
       "<IPython.core.display.HTML object>"
      ]
     },
     "metadata": {},
     "output_type": "display_data"
    },
    {
     "data": {
      "text/html": [
       "Tracking run with wandb version 0.15.12"
      ],
      "text/plain": [
       "<IPython.core.display.HTML object>"
      ]
     },
     "metadata": {},
     "output_type": "display_data"
    },
    {
     "data": {
      "text/html": [
       "Run data is saved locally in <code>c:\\Users\\JANAKSINH\\SMAI_Assignments\\SMAI_Assignment_3\\Q_5\\wandb\\run-20231023_192930-4y28uz9f</code>"
      ],
      "text/plain": [
       "<IPython.core.display.HTML object>"
      ]
     },
     "metadata": {},
     "output_type": "display_data"
    },
    {
     "data": {
      "text/html": [
       "Syncing run <strong><a href='https://wandb.ai/janaksinhven/Q-5.1.2%20Hyperparameters%20tunining%20of%20CNN%20for%20Multi-MNIST%20dataset/runs/4y28uz9f' target=\"_blank\">dutiful-glitter-3</a></strong> to <a href='https://wandb.ai/janaksinhven/Q-5.1.2%20Hyperparameters%20tunining%20of%20CNN%20for%20Multi-MNIST%20dataset' target=\"_blank\">Weights & Biases</a> (<a href='https://wandb.me/run' target=\"_blank\">docs</a>)<br/>"
      ],
      "text/plain": [
       "<IPython.core.display.HTML object>"
      ]
     },
     "metadata": {},
     "output_type": "display_data"
    },
    {
     "data": {
      "text/html": [
       " View project at <a href='https://wandb.ai/janaksinhven/Q-5.1.2%20Hyperparameters%20tunining%20of%20CNN%20for%20Multi-MNIST%20dataset' target=\"_blank\">https://wandb.ai/janaksinhven/Q-5.1.2%20Hyperparameters%20tunining%20of%20CNN%20for%20Multi-MNIST%20dataset</a>"
      ],
      "text/plain": [
       "<IPython.core.display.HTML object>"
      ]
     },
     "metadata": {},
     "output_type": "display_data"
    },
    {
     "data": {
      "text/html": [
       " View run at <a href='https://wandb.ai/janaksinhven/Q-5.1.2%20Hyperparameters%20tunining%20of%20CNN%20for%20Multi-MNIST%20dataset/runs/4y28uz9f' target=\"_blank\">https://wandb.ai/janaksinhven/Q-5.1.2%20Hyperparameters%20tunining%20of%20CNN%20for%20Multi-MNIST%20dataset/runs/4y28uz9f</a>"
      ],
      "text/plain": [
       "<IPython.core.display.HTML object>"
      ]
     },
     "metadata": {},
     "output_type": "display_data"
    },
    {
     "name": "stdout",
     "output_type": "stream",
     "text": [
      "Hyperparameters:0=(0.005, 8, 1000, (3, 3), (1, 1), 0.15)\n",
      "Epoch [1/8], Loss: 4.5180,Accuracy: 49.21632653061224\n",
      "Epoch [2/8], Loss: 4.1153,Accuracy: 53.234693877551024\n",
      "Epoch [3/8], Loss: 3.9659,Accuracy: 54.316326530612244\n",
      "Epoch [4/8], Loss: 3.8964,Accuracy: 54.10918367346939\n",
      "Epoch [5/8], Loss: 3.6547,Accuracy: 55.44795918367347\n",
      "Epoch [6/8], Loss: 3.5370,Accuracy: 56.35510204081633\n"
     ]
    },
    {
     "name": "stderr",
     "output_type": "stream",
     "text": [
      "\u001b[34m\u001b[1mwandb\u001b[0m: Network error resolved after 0:00:08.443474, resuming normal operation.\n"
     ]
    },
    {
     "name": "stdout",
     "output_type": "stream",
     "text": [
      "Epoch [7/8], Loss: 3.3998,Accuracy: 56.51734693877551\n",
      "Epoch [8/8], Loss: 3.3286,Accuracy: 56.29387755102041\n",
      "Hyperparameters:1=(0.005, 8, 1000, (3, 3), (1, 1), 0.25)\n",
      "Epoch [1/8], Loss: 4.2894,Accuracy: 52.1530612244898\n",
      "Epoch [2/8], Loss: 3.7434,Accuracy: 54.97244897959184\n",
      "Epoch [3/8], Loss: 3.5973,Accuracy: 55.87244897959184\n",
      "Epoch [4/8], Loss: 3.4161,Accuracy: 56.391836734693875\n",
      "Epoch [5/8], Loss: 3.3055,Accuracy: 56.76428571428571\n",
      "Epoch [6/8], Loss: 3.2471,Accuracy: 57.073469387755104\n",
      "Epoch [7/8], Loss: 3.1647,Accuracy: 57.255102040816325\n",
      "Epoch [8/8], Loss: 3.1270,Accuracy: 57.3\n",
      "Hyperparameters:2=(0.005, 8, 1000, (5, 5), (1, 1), 0.15)\n",
      "Epoch [1/8], Loss: 3.7243,Accuracy: 55.09795918367347\n",
      "Epoch [2/8], Loss: 3.3187,Accuracy: 56.48877551020408\n",
      "Epoch [3/8], Loss: 3.1006,Accuracy: 57.398979591836735\n",
      "Epoch [4/8], Loss: 3.0037,Accuracy: 57.36938775510204\n",
      "Epoch [5/8], Loss: 2.9322,Accuracy: 57.85510204081633\n",
      "Epoch [6/8], Loss: 2.8544,Accuracy: 58.29387755102041\n",
      "Epoch [7/8], Loss: 2.7831,Accuracy: 58.423469387755105\n",
      "Epoch [8/8], Loss: 2.8050,Accuracy: 58.573469387755104\n",
      "Hyperparameters:3=(0.005, 8, 1000, (5, 5), (1, 1), 0.25)\n",
      "Epoch [1/8], Loss: 4.2812,Accuracy: 51.61326530612245\n",
      "Epoch [2/8], Loss: 4.1051,Accuracy: 52.35408163265306\n",
      "Epoch [3/8], Loss: 3.9686,Accuracy: 51.69387755102041\n",
      "Epoch [4/8], Loss: 3.8587,Accuracy: 51.83469387755102\n",
      "Epoch [5/8], Loss: 3.8350,Accuracy: 51.9969387755102\n",
      "Epoch [6/8], Loss: 3.7842,Accuracy: 52.2469387755102\n",
      "Epoch [7/8], Loss: 3.7504,Accuracy: 52.02857142857143\n",
      "Epoch [8/8], Loss: 3.5616,Accuracy: 53.29897959183673\n",
      "Hyperparameters:4=(0.001, 8, 1000, (3, 3), (1, 1), 0.15)\n",
      "Epoch [1/8], Loss: 4.0529,Accuracy: 53.75612244897959\n",
      "Epoch [2/8], Loss: 3.3681,Accuracy: 57.2234693877551\n",
      "Epoch [3/8], Loss: 3.0331,Accuracy: 59.316326530612244\n",
      "Epoch [4/8], Loss: 2.8713,Accuracy: 60.173469387755105\n",
      "Epoch [5/8], Loss: 2.7799,Accuracy: 60.88979591836735\n",
      "Epoch [6/8], Loss: 2.7204,Accuracy: 61.45816326530612\n",
      "Epoch [7/8], Loss: 2.6311,Accuracy: 61.80408163265306\n",
      "Epoch [8/8], Loss: 2.6001,Accuracy: 61.933673469387756\n",
      "Hyperparameters:5=(0.001, 8, 1000, (3, 3), (1, 1), 0.25)\n",
      "Epoch [1/8], Loss: 4.0642,Accuracy: 53.012244897959185\n",
      "Epoch [2/8], Loss: 3.4478,Accuracy: 57.44183673469388\n",
      "Epoch [3/8], Loss: 3.0501,Accuracy: 59.005102040816325\n",
      "Epoch [4/8], Loss: 2.9066,Accuracy: 60.0265306122449\n",
      "Epoch [5/8], Loss: 2.8000,Accuracy: 60.816326530612244\n",
      "Epoch [6/8], Loss: 2.6999,Accuracy: 61.13061224489796\n",
      "Epoch [7/8], Loss: 2.6148,Accuracy: 61.553061224489795\n",
      "Epoch [8/8], Loss: 2.5813,Accuracy: 61.80816326530612\n",
      "Hyperparameters:6=(0.001, 8, 1000, (5, 5), (1, 1), 0.15)\n",
      "Epoch [1/8], Loss: 3.9227,Accuracy: 54.14387755102041\n",
      "Epoch [2/8], Loss: 3.2099,Accuracy: 58.9030612244898\n",
      "Epoch [3/8], Loss: 2.8444,Accuracy: 60.09795918367347\n",
      "Epoch [4/8], Loss: 2.6734,Accuracy: 60.553061224489795\n",
      "Epoch [5/8], Loss: 2.5614,Accuracy: 61.077551020408166\n",
      "Epoch [6/8], Loss: 2.5292,Accuracy: 61.78469387755102\n",
      "Epoch [7/8], Loss: 2.4424,Accuracy: 61.720408163265304\n",
      "Epoch [8/8], Loss: 2.3914,Accuracy: 61.99183673469388\n",
      "Hyperparameters:7=(0.001, 8, 1000, (5, 5), (1, 1), 0.25)\n",
      "Epoch [1/8], Loss: 3.9410,Accuracy: 53.922448979591834\n",
      "Epoch [2/8], Loss: 3.3244,Accuracy: 57.75204081632653\n",
      "Epoch [3/8], Loss: 2.9723,Accuracy: 59.53775510204082\n",
      "Epoch [4/8], Loss: 2.7065,Accuracy: 61.114285714285714\n",
      "Epoch [5/8], Loss: 2.5967,Accuracy: 61.114285714285714\n",
      "Epoch [6/8], Loss: 2.5277,Accuracy: 61.436734693877554\n",
      "Epoch [7/8], Loss: 2.4488,Accuracy: 61.813265306122446\n",
      "Epoch [8/8], Loss: 2.3846,Accuracy: 61.63061224489796\n"
     ]
    },
    {
     "data": {
      "text/html": [
       "Waiting for W&B process to finish... <strong style=\"color:green\">(success).</strong>"
      ],
      "text/plain": [
       "<IPython.core.display.HTML object>"
      ]
     },
     "metadata": {},
     "output_type": "display_data"
    },
    {
     "data": {
      "text/html": [
       "<style>\n",
       "    table.wandb td:nth-child(1) { padding: 0 10px; text-align: left ; width: auto;} td:nth-child(2) {text-align: left ; width: 100%}\n",
       "    .wandb-row { display: flex; flex-direction: row; flex-wrap: wrap; justify-content: flex-start; width: 100% }\n",
       "    .wandb-col { display: flex; flex-direction: column; flex-basis: 100%; flex: 1; padding: 10px; }\n",
       "    </style>\n",
       "<div class=\"wandb-row\"><div class=\"wandb-col\"><h3>Run history:</h3><br/><table class=\"wandb\"><tr><td>Hyper parameters pair</td><td>▁▂▃▄▅▆▇█</td></tr><tr><td>accuracy</td><td>▃▄▅▁████</td></tr><tr><td>loss</td><td>▇▅▄█▂▂▁▁</td></tr></table><br/></div><div class=\"wandb-col\"><h3>Run summary:</h3><br/><table class=\"wandb\"><tr><td>Hyper parameters pair</td><td>7</td></tr><tr><td>accuracy</td><td>61.63061</td></tr><tr><td>loss</td><td>2.38458</td></tr></table><br/></div></div>"
      ],
      "text/plain": [
       "<IPython.core.display.HTML object>"
      ]
     },
     "metadata": {},
     "output_type": "display_data"
    },
    {
     "data": {
      "text/html": [
       " View run <strong style=\"color:#cdcd00\">dutiful-glitter-3</strong> at: <a href='https://wandb.ai/janaksinhven/Q-5.1.2%20Hyperparameters%20tunining%20of%20CNN%20for%20Multi-MNIST%20dataset/runs/4y28uz9f' target=\"_blank\">https://wandb.ai/janaksinhven/Q-5.1.2%20Hyperparameters%20tunining%20of%20CNN%20for%20Multi-MNIST%20dataset/runs/4y28uz9f</a><br/>Synced 5 W&B file(s), 0 media file(s), 0 artifact file(s) and 0 other file(s)"
      ],
      "text/plain": [
       "<IPython.core.display.HTML object>"
      ]
     },
     "metadata": {},
     "output_type": "display_data"
    },
    {
     "data": {
      "text/html": [
       "Find logs at: <code>.\\wandb\\run-20231023_192930-4y28uz9f\\logs</code>"
      ],
      "text/plain": [
       "<IPython.core.display.HTML object>"
      ]
     },
     "metadata": {},
     "output_type": "display_data"
    }
   ],
   "source": [
    "import wandb\n",
    "import random\n",
    "\n",
    "# start a new wandb run to track this script\n",
    "wandb.init(project=\"Q-5.1.2 Hyperparameters tunining of CNN for Multi-MNIST dataset\")\n",
    "\n",
    "from itertools import product\n",
    "h_param = {\n",
    "        'learning_rate': [0.005, 0.001],\n",
    "        'epochs' : [8],\n",
    "        'batch_size': [1000],\n",
    "        'kernel_sizes' : [(3,3),(5,5)],\n",
    "        'strides' : [(1,1)],\n",
    "        'dropout_rate' : [0.15,0.25]\n",
    "        }\n",
    "hyper_param = list(product(*h_param.values()))\n",
    "J=0\n",
    "accuracy = []\n",
    "for i in hyper_param:\n",
    "    print(f'Hyperparameters:{J}={i}')\n",
    "    acc ,loss = train_CNN_model(i[0], i[1], i[2], i[3], i[4], i[5])\n",
    "    wandb.log({\"Hyper parameters pair\":J,\"accuracy\": acc, \"loss\": loss})\n",
    "    \n",
    "    J += 1\n",
    "    accuracy.append(acc)\n",
    "wandb.finish()"
   ]
  },
  {
   "cell_type": "code",
   "execution_count": 101,
   "metadata": {},
   "outputs": [
    {
     "name": "stdout",
     "output_type": "stream",
     "text": [
      "The maximum accuracy6 = 61.99183673469388\n",
      "We get this accuracy for this hyperparameters\n",
      "(learning_rate,epochs,batch_size,kernel_sizes,strides,dropout_rate): (0.001, 8, 1000, (5, 5), (1, 1), 0.15).\n"
     ]
    }
   ],
   "source": [
    "Max_accu_hy_param_index = 56\n",
    "Max_accu_hy_param_index = np.argmax(accuracy)\n",
    "print(f\"The maximum accuracy{Max_accu_hy_param_index} = {accuracy[Max_accu_hy_param_index]}\")\n",
    "print(f\"We get this accuracy for this hyperparameters\\n(learning_rate,epochs,batch_size,kernel_sizes,strides,dropout_rate): {hyper_param[Max_accu_hy_param_index]}.\")"
   ]
  },
  {
   "cell_type": "markdown",
   "metadata": {},
   "source": [
    "5.1.2     \n",
    "4. Evaluate your trained model on test set and report the accuracy"
   ]
  },
  {
   "cell_type": "code",
   "execution_count": 102,
   "metadata": {},
   "outputs": [
    {
     "name": "stdout",
     "output_type": "stream",
     "text": [
      "Hyperparameters:8=(0.001, 8, 1000, (5, 5), (1, 1), 0.15)\n",
      "Epoch [1/8], Loss: 3.8637,Accuracy: 54.55612244897959\n",
      "Epoch [2/8], Loss: 3.3018,Accuracy: 58.26938775510204\n",
      "Epoch [3/8], Loss: 2.9666,Accuracy: 60.022448979591836\n",
      "Epoch [4/8], Loss: 2.6951,Accuracy: 60.48877551020408\n",
      "Epoch [5/8], Loss: 2.5584,Accuracy: 60.618367346938776\n",
      "Epoch [6/8], Loss: 2.4614,Accuracy: 61.41122448979592\n",
      "Epoch [7/8], Loss: 2.4232,Accuracy: 61.659183673469386\n",
      "Epoch [8/8], Loss: 2.3761,Accuracy: 61.94387755102041\n",
      "Accuracy and loss on the test dataset for best hyperparameters is :\n",
      "Accuracy: 61.94387755102041  Loss: 2.3761250972747803\n"
     ]
    }
   ],
   "source": [
    "i = hyper_param[Max_accu_hy_param_index]\n",
    "print(f'Hyperparameters:{J}={i}')\n",
    "acc ,loss = train_CNN_model(i[0], i[1], i[2], i[3], i[4], i[5])\n",
    "print(f\"Accuracy and loss on the test dataset for best hyperparameters is :\")\n",
    "print(\"Accuracy:\",acc,\" Loss:\",loss)"
   ]
  },
  {
   "cell_type": "markdown",
   "metadata": {},
   "source": [
    "# Q-5.2 Permuted MNIST"
   ]
  },
  {
   "cell_type": "markdown",
   "metadata": {},
   "source": [
    "Data import and preprocess"
   ]
  },
  {
   "cell_type": "code",
   "execution_count": 104,
   "metadata": {},
   "outputs": [
    {
     "name": "stdout",
     "output_type": "stream",
     "text": [
      "train_images.shape: (60000, 28, 28) train_labels.shape: (60000,) \n",
      "test_images.shape: (10000, 28, 28) test_labels.shape: (10000,)\n"
     ]
    }
   ],
   "source": [
    "data = np.load('permuted_mnist.npz')\n",
    "train_images_n = data['train_images']\n",
    "train_labels_n = data['train_labels']\n",
    "test_images = data['test_images']\n",
    "test_labels = data['test_labels']\n",
    "print('train_images.shape:',train_images_n.shape,\"train_labels.shape:\",train_labels_n.shape, \n",
    "'\\ntest_images.shape:', test_images.shape,\"test_labels.shape:\",test_labels.shape)"
   ]
  },
  {
   "cell_type": "code",
   "execution_count": 106,
   "metadata": {},
   "outputs": [
    {
     "data": {
      "image/png": "[encoded data removed]",
      "text/plain": [
       "<Figure size 500x100 with 5 Axes>"
      ]
     },
     "metadata": {},
     "output_type": "display_data"
    }
   ],
   "source": [
    "#Data Samples visulization\n",
    "fig, axes = plt.subplots(1,5, figsize = (5,1))\n",
    "sample_images = train_images_n[:5]\n",
    "for i in range(5):\n",
    "    axes[i].imshow(sample_images[i],'gray')\n",
    "    axes[i].axis('off')"
   ]
  },
  {
   "cell_type": "code",
   "execution_count": 117,
   "metadata": {},
   "outputs": [
    {
     "name": "stdout",
     "output_type": "stream",
     "text": [
      "Shape of the train, test and validaton data: (50000, 28, 28) (10000, 28, 28) (10000, 28, 28)\n",
      "Shape of the train, test and validaton label: (50000,) (10000, 1) (10000,)\n"
     ]
    }
   ],
   "source": [
    "#separate the training, testing and validation data\n",
    "train_images, valid_images, train_labels, valid_labels = train_test_split(train_images_n,train_labels_n,test_size=0.16666,random_state=1)\n",
    "print(\"Shape of the train, test and validaton data:\",train_images.shape,test_images.shape,valid_images.shape)\n",
    "print(\"Shape of the train, test and validaton label:\",train_labels.shape,test_labels.shape,valid_labels.shape)"
   ]
  },
  {
   "cell_type": "markdown",
   "metadata": {},
   "source": [
    "#### 5.2.1 MLP on Permuted-MNIST"
   ]
  },
  {
   "cell_type": "markdown",
   "metadata": {},
   "source": [
    "5.2.1 Data preprocessing"
   ]
  },
  {
   "cell_type": "code",
   "execution_count": 118,
   "metadata": {},
   "outputs": [],
   "source": [
    "#train dataset preprocessing\n",
    "train_labels = train_labels.reshape(-1,1)\n",
    "mlb = MultiLabelBinarizer()\n",
    "labels_train_encoded = mlb.fit_transform(train_labels)\n",
    "train_images = train_images.astype('float32')\n",
    "train_x_n = train_images.reshape(train_images.shape[0], 28*28)\n",
    "train_x_n = torch.from_numpy(train_x_n)\n",
    "train_y_n = torch.from_numpy(labels_train_encoded)\n",
    "train_set = TensorDataset(train_x_n, train_y_n.type(torch.float32))\n",
    "\n",
    "#validation dataset preprocessing\n",
    "valid_labels = valid_labels.reshape(-1,1)\n",
    "mlb = MultiLabelBinarizer()\n",
    "labels_valid_encoded = mlb.fit_transform(valid_labels)\n",
    "valid_images = valid_images.astype('float32')\n",
    "valid_x_n = valid_images.reshape(valid_images.shape[0], 28*28)\n",
    "valid_x_n = torch.from_numpy(valid_x_n)\n",
    "valid_y_n = torch.from_numpy(labels_valid_encoded)\n",
    "valid_set = TensorDataset(valid_x_n, valid_y_n)\n",
    "\n",
    "#test dataset preprocessing\n",
    "test_labels = test_labels.reshape(-1,1)\n",
    "mlb = MultiLabelBinarizer()\n",
    "labels_test_encoded = mlb.fit_transform(test_labels)\n",
    "test_images = test_images.astype('float32')\n",
    "test_x_n = test_images.reshape(test_images.shape[0], 28*28)\n",
    "test_x_n = torch.from_numpy(test_x_n)\n",
    "test_y_n = torch.from_numpy(labels_test_encoded)\n",
    "test_set = TensorDataset(test_x_n, test_y_n)"
   ]
  },
  {
   "cell_type": "markdown",
   "metadata": {},
   "source": [
    "5.2.1 Hyperparameter Tuning"
   ]
  },
  {
   "cell_type": "code",
   "execution_count": 110,
   "metadata": {},
   "outputs": [
    {
     "data": {
      "text/html": [
       "Finishing last run (ID:ngce3s62) before initializing another..."
      ],
      "text/plain": [
       "<IPython.core.display.HTML object>"
      ]
     },
     "metadata": {},
     "output_type": "display_data"
    },
    {
     "data": {
      "text/html": [
       "Waiting for W&B process to finish... <strong style=\"color:green\">(success).</strong>"
      ],
      "text/plain": [
       "<IPython.core.display.HTML object>"
      ]
     },
     "metadata": {},
     "output_type": "display_data"
    },
    {
     "data": {
      "text/html": [
       " View run <strong style=\"color:#cdcd00\">vague-frost-1</strong> at: <a href='https://wandb.ai/janaksinhven/Q-5.2.1%20MLP%20on%20Permuted-MNIST%20dataset%20hyperparameters%20tunining/runs/ngce3s62' target=\"_blank\">https://wandb.ai/janaksinhven/Q-5.2.1%20MLP%20on%20Permuted-MNIST%20dataset%20hyperparameters%20tunining/runs/ngce3s62</a><br/>Synced 5 W&B file(s), 0 media file(s), 0 artifact file(s) and 0 other file(s)"
      ],
      "text/plain": [
       "<IPython.core.display.HTML object>"
      ]
     },
     "metadata": {},
     "output_type": "display_data"
    },
    {
     "data": {
      "text/html": [
       "Find logs at: <code>.\\wandb\\run-20231023_220323-ngce3s62\\logs</code>"
      ],
      "text/plain": [
       "<IPython.core.display.HTML object>"
      ]
     },
     "metadata": {},
     "output_type": "display_data"
    },
    {
     "data": {
      "text/html": [
       "Successfully finished last run (ID:ngce3s62). Initializing new run:<br/>"
      ],
      "text/plain": [
       "<IPython.core.display.HTML object>"
      ]
     },
     "metadata": {},
     "output_type": "display_data"
    },
    {
     "data": {
      "text/html": [
       "Tracking run with wandb version 0.15.12"
      ],
      "text/plain": [
       "<IPython.core.display.HTML object>"
      ]
     },
     "metadata": {},
     "output_type": "display_data"
    },
    {
     "data": {
      "text/html": [
       "Run data is saved locally in <code>c:\\Users\\JANAKSINH\\SMAI_Assignments\\SMAI_Assignment_3\\Q_5\\wandb\\run-20231023_220350-grl1k00w</code>"
      ],
      "text/plain": [
       "<IPython.core.display.HTML object>"
      ]
     },
     "metadata": {},
     "output_type": "display_data"
    },
    {
     "data": {
      "text/html": [
       "Syncing run <strong><a href='https://wandb.ai/janaksinhven/Q-5.2.1%20MLP%20on%20Permuted-MNIST%20dataset%20hyperparameters%20tunining/runs/grl1k00w' target=\"_blank\">lilac-elevator-2</a></strong> to <a href='https://wandb.ai/janaksinhven/Q-5.2.1%20MLP%20on%20Permuted-MNIST%20dataset%20hyperparameters%20tunining' target=\"_blank\">Weights & Biases</a> (<a href='https://wandb.me/run' target=\"_blank\">docs</a>)<br/>"
      ],
      "text/plain": [
       "<IPython.core.display.HTML object>"
      ]
     },
     "metadata": {},
     "output_type": "display_data"
    },
    {
     "data": {
      "text/html": [
       " View project at <a href='https://wandb.ai/janaksinhven/Q-5.2.1%20MLP%20on%20Permuted-MNIST%20dataset%20hyperparameters%20tunining' target=\"_blank\">https://wandb.ai/janaksinhven/Q-5.2.1%20MLP%20on%20Permuted-MNIST%20dataset%20hyperparameters%20tunining</a>"
      ],
      "text/plain": [
       "<IPython.core.display.HTML object>"
      ]
     },
     "metadata": {},
     "output_type": "display_data"
    },
    {
     "data": {
      "text/html": [
       " View run at <a href='https://wandb.ai/janaksinhven/Q-5.2.1%20MLP%20on%20Permuted-MNIST%20dataset%20hyperparameters%20tunining/runs/grl1k00w' target=\"_blank\">https://wandb.ai/janaksinhven/Q-5.2.1%20MLP%20on%20Permuted-MNIST%20dataset%20hyperparameters%20tunining/runs/grl1k00w</a>"
      ],
      "text/plain": [
       "<IPython.core.display.HTML object>"
      ]
     },
     "metadata": {},
     "output_type": "display_data"
    },
    {
     "name": "stdout",
     "output_type": "stream",
     "text": [
      "Hyperparameters:0=([128], 8, 1000)\n"
     ]
    },
    {
     "name": "stderr",
     "output_type": "stream",
     "text": [
      "C:\\Users\\JANAKSINH\\AppData\\Local\\Temp\\ipykernel_6780\\1314646254.py:30: RuntimeWarning: overflow encountered in exp\n",
      "  output = 1 / (1 + np.exp(-output))\n"
     ]
    },
    {
     "name": "stdout",
     "output_type": "stream",
     "text": [
      "Epoch [1/8], Loss: 2.5434,Accuracy: 79.074\n",
      "Epoch [2/8], Loss: 1.9751,Accuracy: 79.558\n",
      "Epoch [3/8], Loss: 1.1823,Accuracy: 81.422\n",
      "Epoch [4/8], Loss: 1.0350,Accuracy: 83.956\n",
      "Epoch [5/8], Loss: 0.7728,Accuracy: 84.692\n",
      "Epoch [6/8], Loss: 0.7991,Accuracy: 84.526\n",
      "Epoch [7/8], Loss: 0.8245,Accuracy: 85.184\n",
      "Epoch [8/8], Loss: 0.7778,Accuracy: 85.586\n",
      "Hyperparameters:1=([128, 64], 8, 1000)\n",
      "Epoch [1/8], Loss: 0.3932,Accuracy: 88.906\n",
      "Epoch [2/8], Loss: 0.2690,Accuracy: 89.272\n",
      "Epoch [3/8], Loss: 0.1779,Accuracy: 89.384\n",
      "Epoch [4/8], Loss: 0.2018,Accuracy: 89.482\n",
      "Epoch [5/8], Loss: 0.1526,Accuracy: 89.546\n",
      "Epoch [6/8], Loss: 0.1902,Accuracy: 89.596\n",
      "Epoch [7/8], Loss: 0.1522,Accuracy: 89.624\n",
      "Epoch [8/8], Loss: 0.1174,Accuracy: 89.65\n",
      "Hyperparameters:2=([256, 128], 8, 1000)\n",
      "Epoch [1/8], Loss: 0.3195,Accuracy: 89.242\n",
      "Epoch [2/8], Loss: 0.2219,Accuracy: 89.442\n",
      "Epoch [3/8], Loss: 0.1723,Accuracy: 89.538\n",
      "Epoch [4/8], Loss: 0.1458,Accuracy: 89.61\n",
      "Epoch [5/8], Loss: 0.1436,Accuracy: 89.62\n",
      "Epoch [6/8], Loss: 0.0909,Accuracy: 89.666\n",
      "Epoch [7/8], Loss: 0.0899,Accuracy: 89.692\n",
      "Epoch [8/8], Loss: 0.0709,Accuracy: 89.69\n"
     ]
    },
    {
     "data": {
      "text/html": [
       "Waiting for W&B process to finish... <strong style=\"color:green\">(success).</strong>"
      ],
      "text/plain": [
       "<IPython.core.display.HTML object>"
      ]
     },
     "metadata": {},
     "output_type": "display_data"
    },
    {
     "data": {
      "text/html": [
       "<style>\n",
       "    table.wandb td:nth-child(1) { padding: 0 10px; text-align: left ; width: auto;} td:nth-child(2) {text-align: left ; width: 100%}\n",
       "    .wandb-row { display: flex; flex-direction: row; flex-wrap: wrap; justify-content: flex-start; width: 100% }\n",
       "    .wandb-col { display: flex; flex-direction: column; flex-basis: 100%; flex: 1; padding: 10px; }\n",
       "    </style>\n",
       "<div class=\"wandb-row\"><div class=\"wandb-col\"><h3>Run history:</h3><br/><table class=\"wandb\"><tr><td>Hyper parameters pair</td><td>▁▅█</td></tr><tr><td>accuracy</td><td>▁██</td></tr><tr><td>loss</td><td>█▁▁</td></tr></table><br/></div><div class=\"wandb-col\"><h3>Run summary:</h3><br/><table class=\"wandb\"><tr><td>Hyper parameters pair</td><td>2</td></tr><tr><td>accuracy</td><td>89.69</td></tr><tr><td>loss</td><td>0.07086</td></tr></table><br/></div></div>"
      ],
      "text/plain": [
       "<IPython.core.display.HTML object>"
      ]
     },
     "metadata": {},
     "output_type": "display_data"
    },
    {
     "data": {
      "text/html": [
       " View run <strong style=\"color:#cdcd00\">lilac-elevator-2</strong> at: <a href='https://wandb.ai/janaksinhven/Q-5.2.1%20MLP%20on%20Permuted-MNIST%20dataset%20hyperparameters%20tunining/runs/grl1k00w' target=\"_blank\">https://wandb.ai/janaksinhven/Q-5.2.1%20MLP%20on%20Permuted-MNIST%20dataset%20hyperparameters%20tunining/runs/grl1k00w</a><br/>Synced 5 W&B file(s), 0 media file(s), 0 artifact file(s) and 0 other file(s)"
      ],
      "text/plain": [
       "<IPython.core.display.HTML object>"
      ]
     },
     "metadata": {},
     "output_type": "display_data"
    },
    {
     "data": {
      "text/html": [
       "Find logs at: <code>.\\wandb\\run-20231023_220350-grl1k00w\\logs</code>"
      ],
      "text/plain": [
       "<IPython.core.display.HTML object>"
      ]
     },
     "metadata": {},
     "output_type": "display_data"
    }
   ],
   "source": [
    "import wandb\n",
    "import random\n",
    "\n",
    "# start a new wandb run to track this script\n",
    "wandb.init(project=\"Q-5.2.1 MLP on Permuted-MNIST dataset hyperparameters tunining\")\n",
    "\n",
    "from itertools import product\n",
    "h_param = {\n",
    "        'hidden_units_list': [[128], [128,64], [256,128]],\n",
    "        'epochs' : [8],\n",
    "        'batch_size': [1000]\n",
    "        }\n",
    "hyper_param = list(product(*h_param.values()))\n",
    "J=0\n",
    "accuracy = []\n",
    "for i in hyper_param:\n",
    "    print(f'Hyperparameters:{J}={i}')\n",
    "    acc ,loss= train_mlp_model(i[0],i[1],i[2])\n",
    "    wandb.log({\"Hyper parameters pair\":J,\"accuracy\": acc, \"loss\": loss})\n",
    "    \n",
    "    J += 1\n",
    "    accuracy.append(acc)\n",
    "wandb.finish()"
   ]
  },
  {
   "cell_type": "code",
   "execution_count": 112,
   "metadata": {},
   "outputs": [
    {
     "name": "stdout",
     "output_type": "stream",
     "text": [
      "The maximum accuracy2=89.69 \n",
      "We get this accuracy for this hyperparameters\n",
      "(hidden_units_list,epochs,batch_size): ([256, 128], 8, 1000).\n"
     ]
    }
   ],
   "source": [
    "\n",
    "Max_accu_hy_param_index = np.argmax(accuracy)\n",
    "print(f\"The maximum accuracy{Max_accu_hy_param_index}={accuracy[Max_accu_hy_param_index]} \\nWe get this accuracy for this hyperparameters\\n(hidden_units_list,epochs,batch_size): {hyper_param[Max_accu_hy_param_index]}.\")"
   ]
  },
  {
   "cell_type": "markdown",
   "metadata": {},
   "source": [
    "5.2.1 Evaluate the model for best hyperpameter on test set"
   ]
  },
  {
   "cell_type": "code",
   "execution_count": 114,
   "metadata": {},
   "outputs": [
    {
     "name": "stdout",
     "output_type": "stream",
     "text": [
      "Hyperparameters:3=([256, 128], 8, 1000)\n",
      "Epoch [1/8], Loss: 0.3279,Accuracy: 89.262\n",
      "Epoch [2/8], Loss: 0.2415,Accuracy: 89.534\n",
      "Epoch [3/8], Loss: 0.1737,Accuracy: 89.596\n",
      "Epoch [4/8], Loss: 0.1305,Accuracy: 89.688\n",
      "Epoch [5/8], Loss: 0.1002,Accuracy: 89.724\n",
      "Epoch [6/8], Loss: 0.0859,Accuracy: 89.74\n",
      "Epoch [7/8], Loss: 0.1128,Accuracy: 89.744\n",
      "Epoch [8/8], Loss: 0.0556,Accuracy: 89.728\n",
      "Accuracy and loss on the test dataset for best hyperparameters is :\n",
      "Accuracy: 89.728  Loss: 0.055619820952415466\n"
     ]
    }
   ],
   "source": [
    "i = hyper_param[Max_accu_hy_param_index]\n",
    "print(f'Hyperparameters:{J}={i}')\n",
    "acc ,loss= train_mlp_model(i[0],i[1],i[2],test_mode=True)\n",
    "print(f\"Accuracy and loss on the test dataset for best hyperparameters is :\")\n",
    "print(\"Accuracy:\",acc,\" Loss:\",loss)"
   ]
  },
  {
   "cell_type": "markdown",
   "metadata": {},
   "source": [
    "## 5.2.2  CNN on Permuted-MNIST"
   ]
  },
  {
   "cell_type": "markdown",
   "metadata": {},
   "source": [
    "5.2.2 Data preprocessing"
   ]
  },
  {
   "cell_type": "code",
   "execution_count": 123,
   "metadata": {},
   "outputs": [],
   "source": [
    "#train dataset preprocessing\n",
    "train_labels = train_labels.reshape(-1,1)\n",
    "mlb = MultiLabelBinarizer()\n",
    "labels_train_encoded = mlb.fit_transform(train_labels)\n",
    "train_x_n = train_images.astype('float32')\n",
    "train_x_n = train_images.reshape(train_images.shape[0],1, 28,28)\n",
    "train_x_n = torch.from_numpy(train_x_n)\n",
    "train_y_n = torch.from_numpy(labels_train_encoded)\n",
    "train_set = TensorDataset(train_x_n, train_y_n.type(torch.float32))\n",
    "\n",
    "#validation dataset preprocessing\n",
    "valid_labels = valid_labels.reshape(-1,1)\n",
    "mlb = MultiLabelBinarizer()\n",
    "labels_valid_encoded = mlb.fit_transform(valid_labels)\n",
    "valid_x_n = valid_images.astype('float32')\n",
    "valid_x_n = valid_images.reshape(valid_images.shape[0],1, 28,28)\n",
    "valid_x_n = torch.from_numpy(valid_x_n)\n",
    "valid_y_n = torch.from_numpy(labels_valid_encoded)\n",
    "valid_set = TensorDataset(valid_x_n, valid_y_n)\n",
    "\n",
    "#test dataset preprocessing\n",
    "test_labels = test_labels.reshape(-1,1)\n",
    "mlb = MultiLabelBinarizer()\n",
    "labels_test_encoded = mlb.fit_transform(test_labels)\n",
    "test_x_n = test_images.astype('float32')\n",
    "test_x_n = test_images.reshape(test_images.shape[0],1, 28,28)\n",
    "test_x_n = torch.from_numpy(test_x_n)\n",
    "test_y_n = torch.from_numpy(labels_test_encoded)\n",
    "test_set = TensorDataset(test_x_n, test_y_n)"
   ]
  },
  {
   "cell_type": "markdown",
   "metadata": {},
   "source": [
    "5.2.2 Hyperparameter tuning"
   ]
  },
  {
   "cell_type": "code",
   "execution_count": 124,
   "metadata": {},
   "outputs": [
    {
     "data": {
      "text/html": [
       "Finishing last run (ID:cg2w6h3r) before initializing another..."
      ],
      "text/plain": [
       "<IPython.core.display.HTML object>"
      ]
     },
     "metadata": {},
     "output_type": "display_data"
    },
    {
     "data": {
      "text/html": [
       "Waiting for W&B process to finish... <strong style=\"color:green\">(success).</strong>"
      ],
      "text/plain": [
       "<IPython.core.display.HTML object>"
      ]
     },
     "metadata": {},
     "output_type": "display_data"
    },
    {
     "data": {
      "text/html": [
       " View run <strong style=\"color:#cdcd00\">vague-field-2</strong> at: <a href='https://wandb.ai/janaksinhven/Q-5.2.2%20Hyperparameters%20tunining%20of%20CNN%20for%20Permuted-MNIST%20dataset/runs/cg2w6h3r' target=\"_blank\">https://wandb.ai/janaksinhven/Q-5.2.2%20Hyperparameters%20tunining%20of%20CNN%20for%20Permuted-MNIST%20dataset/runs/cg2w6h3r</a><br/>Synced 5 W&B file(s), 0 media file(s), 0 artifact file(s) and 0 other file(s)"
      ],
      "text/plain": [
       "<IPython.core.display.HTML object>"
      ]
     },
     "metadata": {},
     "output_type": "display_data"
    },
    {
     "data": {
      "text/html": [
       "Find logs at: <code>.\\wandb\\run-20231023_222746-cg2w6h3r\\logs</code>"
      ],
      "text/plain": [
       "<IPython.core.display.HTML object>"
      ]
     },
     "metadata": {},
     "output_type": "display_data"
    },
    {
     "data": {
      "text/html": [
       "Successfully finished last run (ID:cg2w6h3r). Initializing new run:<br/>"
      ],
      "text/plain": [
       "<IPython.core.display.HTML object>"
      ]
     },
     "metadata": {},
     "output_type": "display_data"
    },
    {
     "data": {
      "text/html": [
       "Tracking run with wandb version 0.15.12"
      ],
      "text/plain": [
       "<IPython.core.display.HTML object>"
      ]
     },
     "metadata": {},
     "output_type": "display_data"
    },
    {
     "data": {
      "text/html": [
       "Run data is saved locally in <code>c:\\Users\\JANAKSINH\\SMAI_Assignments\\SMAI_Assignment_3\\Q_5\\wandb\\run-20231023_223345-7q0c5wey</code>"
      ],
      "text/plain": [
       "<IPython.core.display.HTML object>"
      ]
     },
     "metadata": {},
     "output_type": "display_data"
    },
    {
     "data": {
      "text/html": [
       "Syncing run <strong><a href='https://wandb.ai/janaksinhven/Q-5.2.2%20Hyperparameters%20tunining%20of%20CNN%20for%20Permuted-MNIST%20dataset/runs/7q0c5wey' target=\"_blank\">scarlet-lion-3</a></strong> to <a href='https://wandb.ai/janaksinhven/Q-5.2.2%20Hyperparameters%20tunining%20of%20CNN%20for%20Permuted-MNIST%20dataset' target=\"_blank\">Weights & Biases</a> (<a href='https://wandb.me/run' target=\"_blank\">docs</a>)<br/>"
      ],
      "text/plain": [
       "<IPython.core.display.HTML object>"
      ]
     },
     "metadata": {},
     "output_type": "display_data"
    },
    {
     "data": {
      "text/html": [
       " View project at <a href='https://wandb.ai/janaksinhven/Q-5.2.2%20Hyperparameters%20tunining%20of%20CNN%20for%20Permuted-MNIST%20dataset' target=\"_blank\">https://wandb.ai/janaksinhven/Q-5.2.2%20Hyperparameters%20tunining%20of%20CNN%20for%20Permuted-MNIST%20dataset</a>"
      ],
      "text/plain": [
       "<IPython.core.display.HTML object>"
      ]
     },
     "metadata": {},
     "output_type": "display_data"
    },
    {
     "data": {
      "text/html": [
       " View run at <a href='https://wandb.ai/janaksinhven/Q-5.2.2%20Hyperparameters%20tunining%20of%20CNN%20for%20Permuted-MNIST%20dataset/runs/7q0c5wey' target=\"_blank\">https://wandb.ai/janaksinhven/Q-5.2.2%20Hyperparameters%20tunining%20of%20CNN%20for%20Permuted-MNIST%20dataset/runs/7q0c5wey</a>"
      ],
      "text/plain": [
       "<IPython.core.display.HTML object>"
      ]
     },
     "metadata": {},
     "output_type": "display_data"
    },
    {
     "name": "stdout",
     "output_type": "stream",
     "text": [
      "Hyperparameters:0=(0.005, 8, 1000, (3, 3), (1, 1), 0.15)\n",
      "Epoch [1/8], Loss: 1.0179,Accuracy: 86.338\n",
      "Epoch [2/8], Loss: 0.7320,Accuracy: 87.708\n",
      "Epoch [3/8], Loss: 0.6016,Accuracy: 87.964\n",
      "Epoch [4/8], Loss: 0.6394,Accuracy: 88.314\n",
      "Epoch [5/8], Loss: 0.5175,Accuracy: 88.588\n",
      "Epoch [6/8], Loss: 0.4861,Accuracy: 88.61\n",
      "Epoch [7/8], Loss: 0.4855,Accuracy: 88.626\n",
      "Epoch [8/8], Loss: 0.4495,Accuracy: 88.724\n",
      "Hyperparameters:1=(0.005, 8, 1000, (3, 3), (1, 1), 0.25)\n",
      "Epoch [1/8], Loss: 1.4364,Accuracy: 84.256\n",
      "Epoch [2/8], Loss: 1.0654,Accuracy: 86.496\n",
      "Epoch [3/8], Loss: 0.8825,Accuracy: 87.144\n",
      "Epoch [4/8], Loss: 0.7937,Accuracy: 87.718\n",
      "Epoch [5/8], Loss: 0.6694,Accuracy: 87.816\n",
      "Epoch [6/8], Loss: 0.7062,Accuracy: 87.544\n",
      "Epoch [7/8], Loss: 0.6545,Accuracy: 88.018\n",
      "Epoch [8/8], Loss: 0.6792,Accuracy: 88.136\n",
      "Hyperparameters:2=(0.005, 8, 1000, (5, 5), (1, 1), 0.15)\n",
      "Epoch [1/8], Loss: 1.8727,Accuracy: 79.776\n",
      "Epoch [2/8], Loss: 0.9049,Accuracy: 86.974\n",
      "Epoch [3/8], Loss: 0.7113,Accuracy: 87.828\n",
      "Epoch [4/8], Loss: 0.5700,Accuracy: 88.128\n",
      "Epoch [5/8], Loss: 0.5179,Accuracy: 88.398\n",
      "Epoch [6/8], Loss: 0.5106,Accuracy: 88.502\n",
      "Epoch [7/8], Loss: 0.5096,Accuracy: 88.608\n",
      "Epoch [8/8], Loss: 0.4637,Accuracy: 88.6\n",
      "Hyperparameters:3=(0.005, 8, 1000, (5, 5), (1, 1), 0.25)\n",
      "Epoch [1/8], Loss: 1.6806,Accuracy: 81.564\n",
      "Epoch [2/8], Loss: 1.1659,Accuracy: 85.296\n",
      "Epoch [3/8], Loss: 0.9470,Accuracy: 86.438\n",
      "Epoch [4/8], Loss: 0.7979,Accuracy: 87.228\n",
      "Epoch [5/8], Loss: 0.7606,Accuracy: 87.666\n",
      "Epoch [6/8], Loss: 0.7392,Accuracy: 87.966\n",
      "Epoch [7/8], Loss: 0.6000,Accuracy: 88.16\n",
      "Epoch [8/8], Loss: 0.5613,Accuracy: 88.316\n",
      "Hyperparameters:4=(0.001, 8, 1000, (3, 3), (1, 1), 0.15)\n",
      "Epoch [1/8], Loss: 0.6250,Accuracy: 88.038\n",
      "Epoch [2/8], Loss: 0.4413,Accuracy: 88.806\n",
      "Epoch [3/8], Loss: 0.3921,Accuracy: 89.072\n",
      "Epoch [4/8], Loss: 0.3899,Accuracy: 89.144\n",
      "Epoch [5/8], Loss: 0.3081,Accuracy: 89.22\n",
      "Epoch [6/8], Loss: 0.3093,Accuracy: 89.24\n",
      "Epoch [7/8], Loss: 0.2945,Accuracy: 89.326\n",
      "Epoch [8/8], Loss: 0.2566,Accuracy: 89.33\n",
      "Hyperparameters:5=(0.001, 8, 1000, (3, 3), (1, 1), 0.25)\n",
      "Epoch [1/8], Loss: 0.6568,Accuracy: 87.846\n",
      "Epoch [2/8], Loss: 0.4529,Accuracy: 88.738\n",
      "Epoch [3/8], Loss: 0.3588,Accuracy: 89.034\n",
      "Epoch [4/8], Loss: 0.3632,Accuracy: 89.08\n",
      "Epoch [5/8], Loss: 0.3189,Accuracy: 89.206\n",
      "Epoch [6/8], Loss: 0.2299,Accuracy: 89.288\n",
      "Epoch [7/8], Loss: 0.2219,Accuracy: 89.298\n",
      "Epoch [8/8], Loss: 0.2741,Accuracy: 89.298\n",
      "Hyperparameters:6=(0.001, 8, 1000, (5, 5), (1, 1), 0.15)\n",
      "Epoch [1/8], Loss: 0.9068,Accuracy: 86.916\n",
      "Epoch [2/8], Loss: 0.5396,Accuracy: 88.39\n",
      "Epoch [3/8], Loss: 0.4715,Accuracy: 88.75\n",
      "Epoch [4/8], Loss: 0.3812,Accuracy: 88.9\n",
      "Epoch [5/8], Loss: 0.3965,Accuracy: 88.922\n",
      "Epoch [6/8], Loss: 0.2965,Accuracy: 89.05\n"
     ]
    },
    {
     "ename": "KeyboardInterrupt",
     "evalue": "",
     "output_type": "error",
     "traceback": [
      "\u001b[1;31m---------------------------------------------------------------------------\u001b[0m",
      "\u001b[1;31mKeyboardInterrupt\u001b[0m                         Traceback (most recent call last)",
      "\u001b[1;32mc:\\Users\\JANAKSINH\\SMAI_Assignments\\SMAI_Assignment_3\\Q_5\\5.ipynb Cell 49\u001b[0m line \u001b[0;36m2\n\u001b[0;32m     <a href='vscode-notebook-cell:/c%3A/Users/JANAKSINH/SMAI_Assignments/SMAI_Assignment_3/Q_5/5.ipynb#Y104sZmlsZQ%3D%3D?line=18'>19</a>\u001b[0m \u001b[39mfor\u001b[39;00m i \u001b[39min\u001b[39;00m hyper_param:\n\u001b[0;32m     <a href='vscode-notebook-cell:/c%3A/Users/JANAKSINH/SMAI_Assignments/SMAI_Assignment_3/Q_5/5.ipynb#Y104sZmlsZQ%3D%3D?line=19'>20</a>\u001b[0m     \u001b[39mprint\u001b[39m(\u001b[39mf\u001b[39m\u001b[39m'\u001b[39m\u001b[39mHyperparameters:\u001b[39m\u001b[39m{\u001b[39;00mJ\u001b[39m}\u001b[39;00m\u001b[39m=\u001b[39m\u001b[39m{\u001b[39;00mi\u001b[39m}\u001b[39;00m\u001b[39m'\u001b[39m)\n\u001b[1;32m---> <a href='vscode-notebook-cell:/c%3A/Users/JANAKSINH/SMAI_Assignments/SMAI_Assignment_3/Q_5/5.ipynb#Y104sZmlsZQ%3D%3D?line=20'>21</a>\u001b[0m     acc ,loss \u001b[39m=\u001b[39m train_CNN_model(i[\u001b[39m0\u001b[39;49m], i[\u001b[39m1\u001b[39;49m], i[\u001b[39m2\u001b[39;49m], i[\u001b[39m3\u001b[39;49m], i[\u001b[39m4\u001b[39;49m], i[\u001b[39m5\u001b[39;49m])\n\u001b[0;32m     <a href='vscode-notebook-cell:/c%3A/Users/JANAKSINH/SMAI_Assignments/SMAI_Assignment_3/Q_5/5.ipynb#Y104sZmlsZQ%3D%3D?line=21'>22</a>\u001b[0m     wandb\u001b[39m.\u001b[39mlog({\u001b[39m\"\u001b[39m\u001b[39mHyper parameters pair\u001b[39m\u001b[39m\"\u001b[39m:J,\u001b[39m\"\u001b[39m\u001b[39maccuracy\u001b[39m\u001b[39m\"\u001b[39m: acc, \u001b[39m\"\u001b[39m\u001b[39mloss\u001b[39m\u001b[39m\"\u001b[39m: loss})\n\u001b[0;32m     <a href='vscode-notebook-cell:/c%3A/Users/JANAKSINH/SMAI_Assignments/SMAI_Assignment_3/Q_5/5.ipynb#Y104sZmlsZQ%3D%3D?line=23'>24</a>\u001b[0m     J \u001b[39m+\u001b[39m\u001b[39m=\u001b[39m \u001b[39m1\u001b[39m\n",
      "\u001b[1;32mc:\\Users\\JANAKSINH\\SMAI_Assignments\\SMAI_Assignment_3\\Q_5\\5.ipynb Cell 49\u001b[0m line \u001b[0;36m2\n\u001b[0;32m     <a href='vscode-notebook-cell:/c%3A/Users/JANAKSINH/SMAI_Assignments/SMAI_Assignment_3/Q_5/5.ipynb#Y104sZmlsZQ%3D%3D?line=19'>20</a>\u001b[0m loss \u001b[39m=\u001b[39m criterion(outputs, labels)\n\u001b[0;32m     <a href='vscode-notebook-cell:/c%3A/Users/JANAKSINH/SMAI_Assignments/SMAI_Assignment_3/Q_5/5.ipynb#Y104sZmlsZQ%3D%3D?line=20'>21</a>\u001b[0m \u001b[39m# Backward and optimize\u001b[39;00m\n\u001b[1;32m---> <a href='vscode-notebook-cell:/c%3A/Users/JANAKSINH/SMAI_Assignments/SMAI_Assignment_3/Q_5/5.ipynb#Y104sZmlsZQ%3D%3D?line=21'>22</a>\u001b[0m loss\u001b[39m.\u001b[39;49mbackward()\n\u001b[0;32m     <a href='vscode-notebook-cell:/c%3A/Users/JANAKSINH/SMAI_Assignments/SMAI_Assignment_3/Q_5/5.ipynb#Y104sZmlsZQ%3D%3D?line=22'>23</a>\u001b[0m optimizer\u001b[39m.\u001b[39mstep()\n\u001b[0;32m     <a href='vscode-notebook-cell:/c%3A/Users/JANAKSINH/SMAI_Assignments/SMAI_Assignment_3/Q_5/5.ipynb#Y104sZmlsZQ%3D%3D?line=23'>24</a>\u001b[0m optimizer\u001b[39m.\u001b[39mzero_grad()\n",
      "File \u001b[1;32mc:\\Users\\JANAKSINH\\anaconda3\\envs\\Keras\\lib\\site-packages\\torch\\_tensor.py:487\u001b[0m, in \u001b[0;36mTensor.backward\u001b[1;34m(self, gradient, retain_graph, create_graph, inputs)\u001b[0m\n\u001b[0;32m    477\u001b[0m \u001b[39mif\u001b[39;00m has_torch_function_unary(\u001b[39mself\u001b[39m):\n\u001b[0;32m    478\u001b[0m     \u001b[39mreturn\u001b[39;00m handle_torch_function(\n\u001b[0;32m    479\u001b[0m         Tensor\u001b[39m.\u001b[39mbackward,\n\u001b[0;32m    480\u001b[0m         (\u001b[39mself\u001b[39m,),\n\u001b[1;32m   (...)\u001b[0m\n\u001b[0;32m    485\u001b[0m         inputs\u001b[39m=\u001b[39minputs,\n\u001b[0;32m    486\u001b[0m     )\n\u001b[1;32m--> 487\u001b[0m torch\u001b[39m.\u001b[39;49mautograd\u001b[39m.\u001b[39;49mbackward(\n\u001b[0;32m    488\u001b[0m     \u001b[39mself\u001b[39;49m, gradient, retain_graph, create_graph, inputs\u001b[39m=\u001b[39;49minputs\n\u001b[0;32m    489\u001b[0m )\n",
      "File \u001b[1;32mc:\\Users\\JANAKSINH\\anaconda3\\envs\\Keras\\lib\\site-packages\\torch\\autograd\\__init__.py:200\u001b[0m, in \u001b[0;36mbackward\u001b[1;34m(tensors, grad_tensors, retain_graph, create_graph, grad_variables, inputs)\u001b[0m\n\u001b[0;32m    195\u001b[0m     retain_graph \u001b[39m=\u001b[39m create_graph\n\u001b[0;32m    197\u001b[0m \u001b[39m# The reason we repeat same the comment below is that\u001b[39;00m\n\u001b[0;32m    198\u001b[0m \u001b[39m# some Python versions print out the first line of a multi-line function\u001b[39;00m\n\u001b[0;32m    199\u001b[0m \u001b[39m# calls in the traceback and some print out the last line\u001b[39;00m\n\u001b[1;32m--> 200\u001b[0m Variable\u001b[39m.\u001b[39;49m_execution_engine\u001b[39m.\u001b[39;49mrun_backward(  \u001b[39m# Calls into the C++ engine to run the backward pass\u001b[39;49;00m\n\u001b[0;32m    201\u001b[0m     tensors, grad_tensors_, retain_graph, create_graph, inputs,\n\u001b[0;32m    202\u001b[0m     allow_unreachable\u001b[39m=\u001b[39;49m\u001b[39mTrue\u001b[39;49;00m, accumulate_grad\u001b[39m=\u001b[39;49m\u001b[39mTrue\u001b[39;49;00m)\n",
      "\u001b[1;31mKeyboardInterrupt\u001b[0m: "
     ]
    }
   ],
   "source": [
    "import wandb\n",
    "import random\n",
    "\n",
    "# start a new wandb run to track this script\n",
    "wandb.init(project=\"Q-5.2.2 Hyperparameters tunining of CNN for Permuted-MNIST dataset\")\n",
    "\n",
    "from itertools import product\n",
    "h_param = {\n",
    "        'learning_rate': [0.005, 0.001],\n",
    "        'epochs' : [8],\n",
    "        'batch_size': [1000],\n",
    "        'kernel_sizes' : [(3,3),(5,5)],\n",
    "        'strides' : [(1,1)],\n",
    "        'dropout_rate' : [0.15,0.25]\n",
    "        }\n",
    "hyper_param = list(product(*h_param.values()))\n",
    "J=0\n",
    "accuracy = []\n",
    "for i in hyper_param:\n",
    "    print(f'Hyperparameters:{J}={i}')\n",
    "    acc ,loss = train_CNN_model(i[0], i[1], i[2], i[3], i[4], i[5])\n",
    "    wandb.log({\"Hyper parameters pair\":J,\"accuracy\": acc, \"loss\": loss})\n",
    "    \n",
    "    J += 1\n",
    "    accuracy.append(acc)\n",
    "wandb.finish()"
   ]
  },
  {
   "cell_type": "code",
   "execution_count": 125,
   "metadata": {},
   "outputs": [
    {
     "name": "stdout",
     "output_type": "stream",
     "text": [
      "The maximum accuracy4 = 89.33\n",
      "We get this accuracy for this hyperparameters\n",
      "(learning_rate,epochs,batch_size,kernel_sizes,strides,dropout_rate): (0.001, 8, 1000, (3, 3), (1, 1), 0.15).\n"
     ]
    }
   ],
   "source": [
    "Max_accu_hy_param_index = 56\n",
    "Max_accu_hy_param_index = np.argmax(accuracy)\n",
    "print(f\"The maximum accuracy{Max_accu_hy_param_index} = {accuracy[Max_accu_hy_param_index]}\")\n",
    "print(f\"We get this accuracy for this hyperparameters\\n(learning_rate,epochs,batch_size,kernel_sizes,strides,dropout_rate): {hyper_param[Max_accu_hy_param_index]}.\")"
   ]
  },
  {
   "cell_type": "markdown",
   "metadata": {},
   "source": [
    "5.2.2 Evaluate the model for best hyperpameter on test set"
   ]
  },
  {
   "cell_type": "code",
   "execution_count": 126,
   "metadata": {},
   "outputs": [
    {
     "name": "stdout",
     "output_type": "stream",
     "text": [
      "Hyperparameters:6=(0.001, 8, 1000, (3, 3), (1, 1), 0.15)\n",
      "Epoch [1/3], Loss: 0.5596,Accuracy: 88.438\n"
     ]
    }
   ],
   "source": [
    "i = hyper_param[Max_accu_hy_param_index]\n",
    "print(f'Hyperparameters:{J}={i}')\n",
    "acc ,loss = train_CNN_model(i[0],3, i[2], i[3], i[4], i[5])\n",
    "print(f\"Accuracy and loss on the test dataset for best hyperparameters is :\")\n",
    "print(\"Accuracy:\",acc,\" Loss:\",loss)"
   ]
  },
  {
   "cell_type": "markdown",
   "metadata": {},
   "source": [
    "# Q_5.3  Analysis"
   ]
  },
  {
   "cell_type": "markdown",
   "metadata": {},
   "source": [
    "Q-1. Contrast the performances of MLP vs. CNN for both datasets      \n",
    "Answer:      \n",
    "1. CNN is giving better performance for the complex image dataset.(for the Double-MNIST dataset the CNN(89%) give better accuracy then MLP(56%)).\n",
    "2. for complex dataset MLP have more problem of overfitting compare to CNN.\n",
    "3. for the permuted dataset CNN and MLP both give similar performance."
   ]
  },
  {
   "cell_type": "markdown",
   "metadata": {},
   "source": [
    "Q-2. Discuss the observed differences and any challenges faced during training\n",
    "and evaluation.        \n",
    "Answer:\n",
    "1. CNN required more computational resources compare to MLP. So, for hyper parameter tuning CNN take more time.\n",
    "2. Due to low computational resources the process crashed many time.\n"
   ]
  },
  {
   "cell_type": "markdown",
   "metadata": {},
   "source": [
    "Q-3. Compare the potential for overfitting between a CNN and an MLP in the\n",
    "context of datasets in Task 5. Use training vs. validation loss/accuracy\n",
    "plots to support your observations.               \n",
    "Answer:    \n",
    "For the Double-MNIST dataset MLP have more overfitting problem compare to CNN, which i observed in the task 5.\n",
    "\n"
   ]
  }
 ],
 "metadata": {
  "kernelspec": {
   "display_name": "Keras",
   "language": "python",
   "name": "python3"
  },
  "language_info": {
   "codemirror_mode": {
    "name": "ipython",
    "version": 3
   },
   "file_extension": ".py",
   "mimetype": "text/x-python",
   "name": "python",
   "nbconvert_exporter": "python",
   "pygments_lexer": "ipython3",
   "version": "3.10.12"
  }
 },
 "nbformat": 4,
 "nbformat_minor": 2
}
